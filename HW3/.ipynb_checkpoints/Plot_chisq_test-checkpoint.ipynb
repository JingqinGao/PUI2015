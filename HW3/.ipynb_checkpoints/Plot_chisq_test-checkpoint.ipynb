{
 "cells": [
  {
   "cell_type": "code",
   "execution_count": 4,
   "metadata": {
    "collapsed": false
   },
   "outputs": [
    {
     "name": "stdout",
     "output_type": "stream",
     "text": [
      "Populating the interactive namespace from numpy and matplotlib\n"
     ]
    },
    {
     "name": "stderr",
     "output_type": "stream",
     "text": [
      "/home/jannie/anaconda/lib/python2.7/site-packages/matplotlib/__init__.py:855: UserWarning: svg.embed_char_paths is deprecated and replaced with svg.fonttype; please use the latter.\n",
      "  warnings.warn(self.msg_depr % (key, alt_key))\n"
     ]
    }
   ],
   "source": [
    "from __future__ import print_function\n",
    "__author__='JG'\n",
    "\n",
    "import pylab as pl\n",
    "import numpy as np\n",
    "%pylab inline\n",
    "\n",
    "import pylab as pl\n",
    "import json\n",
    "import os\n",
    "s = json.load( open('fbb_matplotlibrc.json') )\n",
    "pl.rcParams.update(s)"
   ]
  },
  {
   "cell_type": "code",
   "execution_count": 5,
   "metadata": {
    "collapsed": false
   },
   "outputs": [],
   "source": [
    "mymean = 100\n",
    "distributions = {}\n",
    "#set up a random seed\n",
    "numpy.random.seed(seed=1234)\n",
    "distributions['chisq'] = np.random.chisquare(mymean,100)"
   ]
  },
  {
   "cell_type": "code",
   "execution_count": 6,
   "metadata": {
    "collapsed": false
   },
   "outputs": [
    {
     "data": {
      "text/plain": [
       "(array([  5.,   4.,  11.,  13.,  15.,  19.,  16.,   8.,   6.,   3.]),\n",
       " array([  70.95740697,   76.94080903,   82.92421109,   88.90761315,\n",
       "          94.89101521,  100.87441727,  106.85781933,  112.84122139,\n",
       "         118.82462345,  124.80802551,  130.79142758]),\n",
       " <a list of 10 Patch objects>)"
      ]
     },
     "execution_count": 6,
     "metadata": {},
     "output_type": "execute_result"
    },
    {
     "data": {
      "image/png": "[encoded data removed]",
      "text/plain": [
       "<matplotlib.figure.Figure at 0x7fab73eb9ad0>"
      ]
     },
     "metadata": {},
     "output_type": "display_data"
    }
   ],
   "source": [
    "pl.hist(distributions['chisq'])"
   ]
  },
  {
   "cell_type": "code",
   "execution_count": 19,
   "metadata": {
    "collapsed": false
   },
   "outputs": [
    {
     "name": "stdout",
     "output_type": "stream",
     "text": [
      "98.4530290294\n",
      "14.7404148489\n"
     ]
    }
   ],
   "source": [
    "print (distributions['chisq'].mean())\n",
    "print (distributions['chisq'].std())"
   ]
  },
  {
   "cell_type": "code",
   "execution_count": 20,
   "metadata": {
    "collapsed": true
   },
   "outputs": [],
   "source": [
    "mysizes=20000/(np.array(range(1,90))+[10])\n",
    "#range returns a list not an array"
   ]
  },
  {
   "cell_type": "code",
   "execution_count": 14,
   "metadata": {
    "collapsed": false
   },
   "outputs": [
    {
     "name": "stdout",
     "output_type": "stream",
     "text": [
      "[1818 1666 1538 1428 1333 1250 1176 1111 1052 1000  952  909  869  833  800\n",
      "  769  740  714  689  666  645  625  606  588  571  555  540  526  512  500\n",
      "  487  476  465  454  444  434  425  416  408  400  392  384  377  370  363\n",
      "  357  350  344  338  333  327  322  317  312  307  303  298  294  289  285\n",
      "  281  277  273  270  266  263  259  256  253  250  246  243  240  238  235\n",
      "  232  229  227  224  222  219  217  215  212  210  208  206  204  202]\n"
     ]
    }
   ],
   "source": [
    "print (mysizes)"
   ]
  },
  {
   "cell_type": "code",
   "execution_count": 22,
   "metadata": {
    "collapsed": false
   },
   "outputs": [],
   "source": [
    "distributions={'chisq':{}}\n",
    "for n in mysizes:\n",
    "    distributions['chisq'][n] = np.random.chisquare(mymean,n)"
   ]
  },
  {
   "cell_type": "code",
   "execution_count": 28,
   "metadata": {
    "collapsed": false
   },
   "outputs": [
    {
     "data": {
      "image/png": "[encoded data removed]",
      "text/plain": [
       "<matplotlib.figure.Figure at 0x7f29126e9050>"
      ]
     },
     "metadata": {},
     "output_type": "display_data"
    }
   ],
   "source": [
    "means = {}\n",
    "means['chisq'] = {}\n",
    "\n",
    "fig_mu_N = pl.figure(figsize=(10,10))\n",
    "axchisq_mu_n = fig_mu_N.add_subplot(1,1,1)\n",
    "for nn in distributions['chisq']: # or use distributions['chisq'].iterkeys()\n",
    "    axchisq_mu_n.plot(nn, distributions['chisq'][nn].mean(), 'o')\n",
    "    axchisq_mu_n.set_xlabel('sample size')\n",
    "    axchisq_mu_n.set_ylabel('sample mean')\n",
    "    axchisq_mu_n.plot([min(mysizes),max(mysizes)],[mymean,mymean], 'k')"
   ]
  },
  {
   "cell_type": "code",
   "execution_count": null,
   "metadata": {
    "collapsed": true
   },
   "outputs": [],
   "source": []
  }
 ],
 "metadata": {
  "kernelspec": {
   "display_name": "Python 2",
   "language": "python",
   "name": "python2"
  },
  "language_info": {
   "codemirror_mode": {
    "name": "ipython",
    "version": 2
   },
   "file_extension": ".py",
   "mimetype": "text/x-python",
   "name": "python",
   "nbconvert_exporter": "python",
   "pygments_lexer": "ipython2",
   "version": "2.7.10"
  }
 },
 "nbformat": 4,
 "nbformat_minor": 0
}
